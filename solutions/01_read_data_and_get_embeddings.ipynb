{
 "cells": [
  {
   "cell_type": "markdown",
   "id": "3754d07e-87f9-44f8-89ef-af011b6bc4d5",
   "metadata": {},
   "source": [
    "# Data Loading\n",
    "\n",
    "This notebook reads images from the channels PAX5 (nuclear) and CD3 (membrane), and obtains the DINOv2 embeddings."
   ]
  },
  {
   "cell_type": "code",
   "execution_count": 1,
   "id": "38dff761-b976-492d-9bef-a4550808cba0",
   "metadata": {
    "tags": []
   },
   "outputs": [
    {
     "name": "stderr",
     "output_type": "stream",
     "text": [
      "Using a slow image processor as `use_fast` is unset and a slow processor was saved with this model. `use_fast=True` will be the default behavior in v4.48, even if the model was saved with a slow processor. This will result in minor differences in outputs. You'll still be able to use a slow processor with `use_fast=False`.\n"
     ]
    }
   ],
   "source": [
    "import torch\n",
    "import numpy as np\n",
    "from PIL import Image\n",
    "from pathlib import Path\n",
    "from transformers import AutoImageProcessor, AutoModel\n",
    "from tqdm.auto import tqdm\n",
    "\n",
    "# --- Config ---\n",
    "MODEL_NAME = \"facebook/dinov2-base\"\n",
    "DEVICE = torch.device(\"cuda\" if torch.cuda.is_available() else \"cpu\")\n",
    "IMAGE_DIR = Path(\"../data/images\")  # Where the marker folders are\n",
    "MARKERS = [\"PAX5\", \"CD3\"]\n",
    "\n",
    "# --- DINOv2 Setup ---\n",
    "processor = AutoImageProcessor.from_pretrained(MODEL_NAME)\n",
    "model = AutoModel.from_pretrained(MODEL_NAME).to(DEVICE)\n",
    "model.eval()\n",
    "\n",
    "# --- Optional: Compile for faster inference ---\n",
    "try:\n",
    "    model = torch.compile(model)\n",
    "except Exception:\n",
    "    pass  # torch.compile may not be supported on all systems\n",
    "\n",
    "# --- Helper: Load and preprocess images ---\n",
    "def load_images(marker: str) -> list[tuple[str, torch.Tensor]]:\n",
    "    marker_path = IMAGE_DIR / marker.replace(\"/\", \"_\")\n",
    "    image_files = sorted(marker_path.glob(\"*.png\"))\n",
    "    images = []\n",
    "\n",
    "    for path in image_files:\n",
    "        image = Image.open(path).convert(\"RGB\")\n",
    "        inputs = processor(image, return_tensors=\"pt\")\n",
    "        images.append((str(path), inputs))\n",
    "\n",
    "    return images\n",
    "\n",
    "# --- Helper: Batch and run through model ---\n",
    "def get_embeddings(image_batches: list[tuple[str, dict]]) -> list[dict]:\n",
    "    results = []\n",
    "    BATCH_SIZE = 32\n",
    "\n",
    "    for i in tqdm(range(0, len(image_batches), BATCH_SIZE), desc=\"Embedding\"):\n",
    "        batch = image_batches[i:i+BATCH_SIZE]\n",
    "        paths = [x[0] for x in batch]\n",
    "        input_batch = {k: torch.cat([x[1][k] for x in batch]).to(DEVICE) for k in batch[0][1]}\n",
    "\n",
    "        with torch.no_grad(), torch.autocast(\"cuda\" if DEVICE.type == \"cuda\" else \"cpu\"):\n",
    "            outputs = model(**input_batch)\n",
    "\n",
    "        # Use CLS token representation\n",
    "        cls_embeddings = outputs.last_hidden_state[:, 0].cpu().numpy()\n",
    "\n",
    "        for path, emb in zip(paths, cls_embeddings):\n",
    "            results.append({\n",
    "                \"image_path\": path,\n",
    "                \"embedding\": emb\n",
    "            })\n",
    "\n",
    "    return results"
   ]
  },
  {
   "cell_type": "code",
   "execution_count": 2,
   "id": "2c132338-267a-4a27-af61-a3338ce0feb6",
   "metadata": {},
   "outputs": [
    {
     "data": {
      "text/plain": [
       "device(type='cuda')"
      ]
     },
     "execution_count": 2,
     "metadata": {},
     "output_type": "execute_result"
    }
   ],
   "source": [
    "DEVICE"
   ]
  },
  {
   "cell_type": "code",
   "execution_count": 3,
   "id": "c53943c0-5397-4c75-bae5-bd9253ff9bf6",
   "metadata": {
    "tags": []
   },
   "outputs": [
    {
     "name": "stdout",
     "output_type": "stream",
     "text": [
      "Processing marker: PAX5\n"
     ]
    },
    {
     "data": {
      "application/vnd.jupyter.widget-view+json": {
       "model_id": "7b02a35f079f4eea86dd63eaa3b2d989",
       "version_major": 2,
       "version_minor": 0
      },
      "text/plain": [
       "Embedding:   0%|          | 0/12 [00:00<?, ?it/s]"
      ]
     },
     "metadata": {},
     "output_type": "display_data"
    },
    {
     "name": "stdout",
     "output_type": "stream",
     "text": [
      "Processing marker: CD3\n"
     ]
    },
    {
     "data": {
      "application/vnd.jupyter.widget-view+json": {
       "model_id": "9a3358cb45144fcaa6d2d9734fd1f2c7",
       "version_major": 2,
       "version_minor": 0
      },
      "text/plain": [
       "Embedding:   0%|          | 0/12 [00:00<?, ?it/s]"
      ]
     },
     "metadata": {},
     "output_type": "display_data"
    }
   ],
   "source": [
    "# --- Main: Embed all images for selected markers ---\n",
    "all_embeddings = []\n",
    "\n",
    "for marker in MARKERS:\n",
    "    print(f\"Processing marker: {marker}\")\n",
    "    images = load_images(marker)\n",
    "    if not images:\n",
    "        print(f\"No images found for {marker}\")\n",
    "        continue\n",
    "    embeddings = get_embeddings(images)\n",
    "    for entry in embeddings:\n",
    "        entry[\"marker\"] = marker\n",
    "    all_embeddings.extend(embeddings)"
   ]
  },
  {
   "cell_type": "code",
   "execution_count": 7,
   "id": "a42da10b-1b21-4ac3-ba1a-9d4655d7c589",
   "metadata": {},
   "outputs": [
    {
     "name": "stdout",
     "output_type": "stream",
     "text": [
      "Done. Embeddings saved to ../data/marker_embeddings_subset.parquet\n"
     ]
    }
   ],
   "source": [
    "# --- Convert to DataFrame ---\n",
    "import pandas as pd\n",
    "\n",
    "df = pd.DataFrame(all_embeddings)\n",
    "df['sample_id'] = df['image_path'].apply(lambda p: Path(p).stem)\n",
    "df['embedding'] = df['embedding'].apply(np.array)\n",
    "\n",
    "# Optional: Save embeddings (e.g., as Parquet with numpy array)\n",
    "df.to_parquet(\"../data/marker_embeddings_subset.parquet\", engine=\"pyarrow\", compression=\"zstd\")\n",
    "\n",
    "print(\"Done. Embeddings saved to ../data/marker_embeddings_subset.parquet\")"
   ]
  },
  {
   "cell_type": "code",
   "execution_count": 8,
   "id": "16c238e6-50e4-4a00-bf0e-cc6affbeb692",
   "metadata": {
    "tags": []
   },
   "outputs": [
    {
     "data": {
      "text/html": [
       "<div>\n",
       "<style scoped>\n",
       "    .dataframe tbody tr th:only-of-type {\n",
       "        vertical-align: middle;\n",
       "    }\n",
       "\n",
       "    .dataframe tbody tr th {\n",
       "        vertical-align: top;\n",
       "    }\n",
       "\n",
       "    .dataframe thead th {\n",
       "        text-align: right;\n",
       "    }\n",
       "</style>\n",
       "<table border=\"1\" class=\"dataframe\">\n",
       "  <thead>\n",
       "    <tr style=\"text-align: right;\">\n",
       "      <th></th>\n",
       "      <th>image_path</th>\n",
       "      <th>embedding</th>\n",
       "      <th>marker</th>\n",
       "      <th>sample_id</th>\n",
       "    </tr>\n",
       "  </thead>\n",
       "  <tbody>\n",
       "    <tr>\n",
       "      <th>0</th>\n",
       "      <td>../data/images/PAX5/sample_001.png</td>\n",
       "      <td>[4.1601596, 0.19707349, -0.39906776, 0.4187315...</td>\n",
       "      <td>PAX5</td>\n",
       "      <td>sample_001</td>\n",
       "    </tr>\n",
       "    <tr>\n",
       "      <th>1</th>\n",
       "      <td>../data/images/PAX5/sample_002.png</td>\n",
       "      <td>[2.1713753, -0.18894142, -1.1794543, 0.0642976...</td>\n",
       "      <td>PAX5</td>\n",
       "      <td>sample_002</td>\n",
       "    </tr>\n",
       "    <tr>\n",
       "      <th>2</th>\n",
       "      <td>../data/images/PAX5/sample_003.png</td>\n",
       "      <td>[2.3522525, 1.3800017, -1.7806236, -1.49976, -...</td>\n",
       "      <td>PAX5</td>\n",
       "      <td>sample_003</td>\n",
       "    </tr>\n",
       "    <tr>\n",
       "      <th>3</th>\n",
       "      <td>../data/images/PAX5/sample_006.png</td>\n",
       "      <td>[3.3333764, 0.9943014, -0.4116209, 1.0857946, ...</td>\n",
       "      <td>PAX5</td>\n",
       "      <td>sample_006</td>\n",
       "    </tr>\n",
       "    <tr>\n",
       "      <th>4</th>\n",
       "      <td>../data/images/PAX5/sample_007.png</td>\n",
       "      <td>[3.0457215, 1.0350839, -0.34904912, 1.10828, -...</td>\n",
       "      <td>PAX5</td>\n",
       "      <td>sample_007</td>\n",
       "    </tr>\n",
       "    <tr>\n",
       "      <th>...</th>\n",
       "      <td>...</td>\n",
       "      <td>...</td>\n",
       "      <td>...</td>\n",
       "      <td>...</td>\n",
       "    </tr>\n",
       "    <tr>\n",
       "      <th>729</th>\n",
       "      <td>../data/images/CD3/sample_400.png</td>\n",
       "      <td>[1.2264028, 0.055597667, -0.92955977, -2.60830...</td>\n",
       "      <td>CD3</td>\n",
       "      <td>sample_400</td>\n",
       "    </tr>\n",
       "    <tr>\n",
       "      <th>730</th>\n",
       "      <td>../data/images/CD3/sample_401.png</td>\n",
       "      <td>[0.7608712, 1.8352201, 0.3570453, 0.7371291, -...</td>\n",
       "      <td>CD3</td>\n",
       "      <td>sample_401</td>\n",
       "    </tr>\n",
       "    <tr>\n",
       "      <th>731</th>\n",
       "      <td>../data/images/CD3/sample_402.png</td>\n",
       "      <td>[1.0764847, -0.42349392, -0.00124115, 0.235760...</td>\n",
       "      <td>CD3</td>\n",
       "      <td>sample_402</td>\n",
       "    </tr>\n",
       "    <tr>\n",
       "      <th>732</th>\n",
       "      <td>../data/images/CD3/sample_403.png</td>\n",
       "      <td>[0.8793458, 0.7496702, 0.10183122, -0.8387582,...</td>\n",
       "      <td>CD3</td>\n",
       "      <td>sample_403</td>\n",
       "    </tr>\n",
       "    <tr>\n",
       "      <th>733</th>\n",
       "      <td>../data/images/CD3/sample_404.png</td>\n",
       "      <td>[1.1017257, 1.8536514, 0.6336702, 1.3597195, -...</td>\n",
       "      <td>CD3</td>\n",
       "      <td>sample_404</td>\n",
       "    </tr>\n",
       "  </tbody>\n",
       "</table>\n",
       "<p>734 rows × 4 columns</p>\n",
       "</div>"
      ],
      "text/plain": [
       "                             image_path  \\\n",
       "0    ../data/images/PAX5/sample_001.png   \n",
       "1    ../data/images/PAX5/sample_002.png   \n",
       "2    ../data/images/PAX5/sample_003.png   \n",
       "3    ../data/images/PAX5/sample_006.png   \n",
       "4    ../data/images/PAX5/sample_007.png   \n",
       "..                                  ...   \n",
       "729   ../data/images/CD3/sample_400.png   \n",
       "730   ../data/images/CD3/sample_401.png   \n",
       "731   ../data/images/CD3/sample_402.png   \n",
       "732   ../data/images/CD3/sample_403.png   \n",
       "733   ../data/images/CD3/sample_404.png   \n",
       "\n",
       "                                             embedding marker   sample_id  \n",
       "0    [4.1601596, 0.19707349, -0.39906776, 0.4187315...   PAX5  sample_001  \n",
       "1    [2.1713753, -0.18894142, -1.1794543, 0.0642976...   PAX5  sample_002  \n",
       "2    [2.3522525, 1.3800017, -1.7806236, -1.49976, -...   PAX5  sample_003  \n",
       "3    [3.3333764, 0.9943014, -0.4116209, 1.0857946, ...   PAX5  sample_006  \n",
       "4    [3.0457215, 1.0350839, -0.34904912, 1.10828, -...   PAX5  sample_007  \n",
       "..                                                 ...    ...         ...  \n",
       "729  [1.2264028, 0.055597667, -0.92955977, -2.60830...    CD3  sample_400  \n",
       "730  [0.7608712, 1.8352201, 0.3570453, 0.7371291, -...    CD3  sample_401  \n",
       "731  [1.0764847, -0.42349392, -0.00124115, 0.235760...    CD3  sample_402  \n",
       "732  [0.8793458, 0.7496702, 0.10183122, -0.8387582,...    CD3  sample_403  \n",
       "733  [1.1017257, 1.8536514, 0.6336702, 1.3597195, -...    CD3  sample_404  \n",
       "\n",
       "[734 rows x 4 columns]"
      ]
     },
     "execution_count": 8,
     "metadata": {},
     "output_type": "execute_result"
    }
   ],
   "source": [
    "df"
   ]
  },
  {
   "cell_type": "code",
   "execution_count": null,
   "id": "f8fde0d5-a99c-43e2-9a8c-bda23e946ab3",
   "metadata": {},
   "outputs": [],
   "source": []
  }
 ],
 "metadata": {
  "kernelspec": {
   "display_name": "huggingface_env",
   "language": "python",
   "name": "huggingface_env"
  },
  "language_info": {
   "codemirror_mode": {
    "name": "ipython",
    "version": 3
   },
   "file_extension": ".py",
   "mimetype": "text/x-python",
   "name": "python",
   "nbconvert_exporter": "python",
   "pygments_lexer": "ipython3",
   "version": "3.12.0"
  }
 },
 "nbformat": 4,
 "nbformat_minor": 5
}
