{
 "cells": [
  {
   "cell_type": "markdown",
   "id": "8190785a-aa9a-406c-8f89-42c1d6319162",
   "metadata": {
    "tags": []
   },
   "source": [
    "[![Open In Colab](https://colab.research.google.com/assets/colab-badge.svg)](https://colab.research.google.com/github/MeyerBender/representation_learning_workshop/blob/main/tasks/01_unsupervised_exploration_of_the_latent_space.ipynb)"
   ]
  },
  {
   "cell_type": "markdown",
   "id": "ecb407c9-16a8-4e01-b425-1ca87fbb00b1",
   "metadata": {},
   "source": [
    "# Unsupervised exploration of the latent space\n",
    "\n",
    "Download the data from here (coming soon). There are several things in there: precomputed embeddings, as well as images for the markers PAX5 (nuclear) and CD3 (membrane). For a start, we will only consider these two by looking at the dataframe `marker_embeddings_subset.parquet`. If you want to extend this to look at all markers, have a look at `marker_embeddings.parquet`.\n",
    "\n",
    "Our first task will be to look at the embeddings space a bit. To do this, you can use several dimensionality reduction and unsupervised machine learning methods."
   ]
  },
  {
   "cell_type": "code",
   "execution_count": null,
   "id": "d58d6be0-515b-4e99-84c6-60655156fe06",
   "metadata": {},
   "outputs": [],
   "source": [
    "# download the data\n",
    "# if you have already run this cell once, there is no need to run it again\n",
    "\n",
    "# use this when running on colab\n",
    "! wget https://www.huber.embl.de/users/matthias/representation_learning_data.tar.gz /content/representation_learning_data.tar.gz\n",
    "! tar -xzf /content/representation_learning_data.tar.gz\n",
    "data_dir = '/content/data'\n",
    "\n",
    "# use this when running locally\n",
    "#! wget https://www.huber.embl.de/users/matthias/representation_learning_data.tar.gz representation_learning_data.tar.gz\n",
    "#! tar -xzf representation_learning_data.tar.gz\n",
    "#data_dir = 'data'"
   ]
  },
  {
   "cell_type": "markdown",
   "id": "dc18571b-d0ad-46b7-be16-e2d2e3dc6f86",
   "metadata": {},
   "source": [
    "## Step 1: read in the data"
   ]
  },
  {
   "cell_type": "code",
   "execution_count": null,
   "id": "6ddd57dc-8537-4a77-8b73-2b58a991c62a",
   "metadata": {},
   "outputs": [],
   "source": [
    "# TODO: read in the data from the file marker_embeddings_subset.parquet\n",
    "# Look at the dataframe. How many samples do we have? How big are the embeddings?"
   ]
  },
  {
   "cell_type": "markdown",
   "id": "1be3735d-c0d3-46be-b44a-c865d162f668",
   "metadata": {},
   "source": [
    "## Step 2: visualize the data"
   ]
  },
  {
   "cell_type": "code",
   "execution_count": null,
   "id": "be2dcddc-05e8-4b7c-8e7d-b84566030022",
   "metadata": {},
   "outputs": [],
   "source": [
    "# TODO: visualize the data\n",
    "# use methods such as PCA or UMAP to project the embeddings onto a 2D space\n",
    "# color them by their respective protein marker/localization\n",
    "# you can also look at individual dimensions in the embedding space. Do they correspond to anything?"
   ]
  },
  {
   "cell_type": "code",
   "execution_count": null,
   "id": "1a75c7b4-04ee-4d63-a7af-1981a742fb52",
   "metadata": {},
   "outputs": [],
   "source": [
    "# for experts: instead of just plotting points in a scatterplot, can you show some of the images which the embeddings correspond to?\n",
    "# something like this: https://i.sstatic.net/0SxLR.png"
   ]
  },
  {
   "cell_type": "markdown",
   "id": "37bc99ba-d22f-4c0f-b459-4578d44489e4",
   "metadata": {},
   "source": [
    "## Step 3: unsupervised exploration of the data"
   ]
  },
  {
   "cell_type": "code",
   "execution_count": null,
   "id": "034496af-0f5a-45a8-a638-2290de63e447",
   "metadata": {},
   "outputs": [],
   "source": [
    "# TODO: apply a clustering method of your choice to the latent space\n",
    "# how many clusters do you see? What do they correspond to? Can these clusters already tell apart CD3 and PAX5?"
   ]
  }
 ],
 "metadata": {
  "kernelspec": {
   "display_name": "tmp_env_3",
   "language": "python",
   "name": "tmp_env_3"
  },
  "language_info": {
   "codemirror_mode": {
    "name": "ipython",
    "version": 3
   },
   "file_extension": ".py",
   "mimetype": "text/x-python",
   "name": "python",
   "nbconvert_exporter": "python",
   "pygments_lexer": "ipython3",
   "version": "3.10.0"
  }
 },
 "nbformat": 4,
 "nbformat_minor": 5
}
