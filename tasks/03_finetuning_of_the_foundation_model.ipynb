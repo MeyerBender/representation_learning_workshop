{
 "cells": [
  {
   "cell_type": "markdown",
   "id": "019edbc5-19f3-4bf6-927c-5c47f61480d7",
   "metadata": {},
   "source": [
    "[![Open In Colab](https://colab.research.google.com/assets/colab-badge.svg)](https://colab.research.google.com/github/MeyerBender/representation_learning_workshop/blob/main/tasks/03_finetuning_of_the_foundation_model.ipynb)"
   ]
  },
  {
   "cell_type": "markdown",
   "id": "09c1112c-ea02-4490-ab01-ea8e8afef13c",
   "metadata": {},
   "source": [
    "# Fine-tuning of the foundation model\n",
    "\n",
    "If you made it this far, congratulations! This next task will be substantially more difficult than the previous ones. It is fully optional, and meant for students who really want to learn how to create the embeddings in the first place.\n",
    "\n",
    "You can download pre-trained foundation models using the `transformers` library. I used `facebook/dinov2-base` to create the embeddings, but you can also try different ones to see how they compare."
   ]
  },
  {
   "cell_type": "markdown",
   "id": "0bc45c99-0843-4208-9572-5598a6bdd3cb",
   "metadata": {},
   "source": [
    "## Task 1: create the image embeddings yourself"
   ]
  },
  {
   "cell_type": "code",
   "execution_count": 1,
   "id": "3176d02d-950c-4f51-b7b8-3023825bfab1",
   "metadata": {
    "tags": []
   },
   "outputs": [],
   "source": [
    "# TODO: use a pretrained model such as DINOv2 to embed the images in the \"images\" folder\n",
    "# you can try different models and compare how their embeddings differ when doing downstream analysis (like in the previous two notebooks)"
   ]
  },
  {
   "cell_type": "markdown",
   "id": "6ac4faa2-ce70-415b-991c-d92083237408",
   "metadata": {},
   "source": [
    "## Task 2: fine-tune the model"
   ]
  },
  {
   "cell_type": "code",
   "execution_count": null,
   "id": "2208d89d-36fb-4198-9cc5-51a143e49c4b",
   "metadata": {},
   "outputs": [],
   "source": [
    "# TODO: add a classifier to the model, like we did in the second notebook. \n",
    "# Then, instead of just tuning that neural network, try fine-tuning the whole foundation model.\n",
    "# Note that this might be very computationally expensive, and hence not necessarily feasible on Google Colab."
   ]
  }
 ],
 "metadata": {
  "kernelspec": {
   "display_name": "tmp_env_3",
   "language": "python",
   "name": "tmp_env_3"
  },
  "language_info": {
   "codemirror_mode": {
    "name": "ipython",
    "version": 3
   },
   "file_extension": ".py",
   "mimetype": "text/x-python",
   "name": "python",
   "nbconvert_exporter": "python",
   "pygments_lexer": "ipython3",
   "version": "3.10.0"
  }
 },
 "nbformat": 4,
 "nbformat_minor": 5
}
