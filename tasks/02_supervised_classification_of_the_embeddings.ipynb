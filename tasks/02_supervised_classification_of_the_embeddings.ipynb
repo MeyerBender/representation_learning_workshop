{
 "cells": [
  {
   "cell_type": "markdown",
   "id": "c5a790fd-0fe0-4ae2-809b-949014a89eb6",
   "metadata": {},
   "source": [
    "[![Open In Colab](https://colab.research.google.com/assets/colab-badge.svg)](https://colab.research.google.com/github/MeyerBender/representation_learning_workshop/blob/main/tasks/02_supervised_classifications_of_the_embeddings.ipynb)"
   ]
  },
  {
   "cell_type": "markdown",
   "id": "5f7fe7e6-78b5-46aa-92b1-d48841efdba9",
   "metadata": {},
   "source": [
    "# Supervised classification of the latent space\n",
    "\n",
    "Now that we have explored our latent space, we can try to predict the subcellular localization of our markers from the embeddings directly.\n",
    "You can start doing this on PAX5 and CD3 only, and then extend it to all markers. How does your model perform?"
   ]
  },
  {
   "cell_type": "code",
   "execution_count": null,
   "id": "5cefd88e-083d-4c8c-b5f5-a9a5d83ab174",
   "metadata": {},
   "outputs": [],
   "source": [
    "# download the data\n",
    "# if you have already run this cell once, there is no need to run it again\n",
    "\n",
    "# use this when running on colab\n",
    "! wget https://www.huber.embl.de/users/matthias/representation_learning_data.tar.gz /content/representation_learning_data.tar.gz\n",
    "! tar -xzf /content/representation_learning_data.tar.gz\n",
    "data_dir = '/content/data'\n",
    "\n",
    "# use this when running locally\n",
    "#! wget https://www.huber.embl.de/users/matthias/representation_learning_data.tar.gz representation_learning_data.tar.gz\n",
    "#! tar -xzf representation_learning_data.tar.gz\n",
    "#data_dir = 'data'"
   ]
  },
  {
   "cell_type": "markdown",
   "id": "14ae1de7-0648-4471-a680-8ab623ddae1e",
   "metadata": {},
   "source": [
    "## Task 1: train a neural network to predict subcellular localization"
   ]
  },
  {
   "cell_type": "code",
   "execution_count": 1,
   "id": "b5977ff6-9912-4d96-93d6-00d7b7549f78",
   "metadata": {
    "tags": []
   },
   "outputs": [],
   "source": [
    "# TODO: write a small neural network that takes the embeddings as inputs, and predicts nuclear/membrane as output (binary classification, one single output neuron)\n",
    "# make sure to use proper cross-validation when evaluating the performance of your model\n",
    "# evaluate the model: create a confusion matrix, plot the precision-recall curve, evaluate metrics such as the accuracy, F1 score, and AUC\n",
    "# play around with different model architectures (number of layers, layer sizes, ...). What do you observe"
   ]
  },
  {
   "cell_type": "markdown",
   "id": "0678bcaa-d419-4d33-9019-194166cb93f4",
   "metadata": {},
   "source": [
    "### Task 1.1: try different machine learning models\n",
    "\n",
    "This task is purely optional. It is a good idea to compare the performance of your model to some other ML methods, such as random forest classifiers or support vector machines. Feel free to try out different methods and see how they perform compared to one another."
   ]
  },
  {
   "cell_type": "code",
   "execution_count": 2,
   "id": "ca7a9706-8fce-43e5-bb0e-0670f1a7c907",
   "metadata": {
    "tags": []
   },
   "outputs": [],
   "source": [
    "# TODO: your code here (optional)"
   ]
  },
  {
   "cell_type": "markdown",
   "id": "bb3cb0b8-5649-4e20-a606-20b2a16c74eb",
   "metadata": {},
   "source": [
    "### Task 2: extension to all markers and multi-class classification"
   ]
  },
  {
   "cell_type": "code",
   "execution_count": null,
   "id": "24ac0bcb-2f04-4441-9bcf-569c9ecb8ca8",
   "metadata": {},
   "outputs": [],
   "source": [
    "# TODO: try to apply the same methodology to all markers\n",
    "# instead of just membrane/nuclear, we now also have the cytoplasm label\n",
    "# extend your model to perform multi-class classification, and see how it compares to the previous model"
   ]
  }
 ],
 "metadata": {
  "kernelspec": {
   "display_name": "tmp_env_3",
   "language": "python",
   "name": "tmp_env_3"
  },
  "language_info": {
   "codemirror_mode": {
    "name": "ipython",
    "version": 3
   },
   "file_extension": ".py",
   "mimetype": "text/x-python",
   "name": "python",
   "nbconvert_exporter": "python",
   "pygments_lexer": "ipython3",
   "version": "3.10.0"
  }
 },
 "nbformat": 4,
 "nbformat_minor": 5
}
